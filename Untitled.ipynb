{
 "cells": [
  {
   "cell_type": "code",
   "execution_count": 1,
   "metadata": {},
   "outputs": [
    {
     "name": "stderr",
     "output_type": "stream",
     "text": [
      "Using TensorFlow backend.\n"
     ]
    }
   ],
   "source": [
    "# Importing the libraries\n",
    "import numpy as np\n",
    "from keras.models import load_model\n",
    "import cv2\n"
   ]
  },
  {
   "cell_type": "code",
   "execution_count": 2,
   "metadata": {},
   "outputs": [],
   "source": [
    "# Load the trained model\n",
    "model = load_model('Snap_filter.h5')"
   ]
  },
  {
   "cell_type": "code",
   "execution_count": 3,
   "metadata": {},
   "outputs": [],
   "source": [
    "# Get frontal face haar cascade\n",
    "face_cascade = cv2.CascadeClassifier('cascades/haarcascade_frontalface_default.xml')"
   ]
  },
  {
   "cell_type": "code",
   "execution_count": 4,
   "metadata": {},
   "outputs": [],
   "source": [
    "# Get webcam\n",
    "camera = cv2.VideoCapture(0)"
   ]
  },
  {
   "cell_type": "code",
   "execution_count": 5,
   "metadata": {},
   "outputs": [
    {
     "ename": "IndexError",
     "evalue": "index 480 is out of bounds for axis 0 with size 480",
     "output_type": "error",
     "traceback": [
      "\u001b[1;31m---------------------------------------------------------------------------\u001b[0m",
      "\u001b[1;31mIndexError\u001b[0m                                Traceback (most recent call last)",
      "\u001b[1;32m<ipython-input-5-cc9aa8c54939>\u001b[0m in \u001b[0;36m<module>\u001b[1;34m\u001b[0m\n\u001b[0;32m     55\u001b[0m             \u001b[1;32mfor\u001b[0m \u001b[0mj\u001b[0m \u001b[1;32min\u001b[0m \u001b[0mrange\u001b[0m\u001b[1;33m(\u001b[0m\u001b[1;36m0\u001b[0m\u001b[1;33m,\u001b[0m\u001b[0msh\u001b[0m\u001b[1;33m)\u001b[0m\u001b[1;33m:\u001b[0m\u001b[1;33m\u001b[0m\u001b[1;33m\u001b[0m\u001b[0m\n\u001b[0;32m     56\u001b[0m                 \u001b[1;32mif\u001b[0m \u001b[0msanta_filter\u001b[0m\u001b[1;33m[\u001b[0m\u001b[0mi\u001b[0m\u001b[1;33m,\u001b[0m\u001b[0mj\u001b[0m\u001b[1;33m]\u001b[0m\u001b[1;33m[\u001b[0m\u001b[1;36m3\u001b[0m\u001b[1;33m]\u001b[0m \u001b[1;33m!=\u001b[0m \u001b[1;36m0\u001b[0m\u001b[1;33m:\u001b[0m\u001b[1;33m\u001b[0m\u001b[1;33m\u001b[0m\u001b[0m\n\u001b[1;32m---> 57\u001b[1;33m                     \u001b[0mimg_copy\u001b[0m\u001b[1;33m[\u001b[0m\u001b[0mtop_lip_coords\u001b[0m\u001b[1;33m[\u001b[0m\u001b[1;36m1\u001b[0m\u001b[1;33m]\u001b[0m\u001b[1;33m+\u001b[0m\u001b[0mi\u001b[0m\u001b[1;33m+\u001b[0m\u001b[0my\u001b[0m\u001b[1;33m-\u001b[0m\u001b[1;36m20\u001b[0m\u001b[1;33m,\u001b[0m \u001b[0mleft_lip_coords\u001b[0m\u001b[1;33m[\u001b[0m\u001b[1;36m0\u001b[0m\u001b[1;33m]\u001b[0m\u001b[1;33m+\u001b[0m\u001b[0mj\u001b[0m\u001b[1;33m+\u001b[0m\u001b[0mx\u001b[0m\u001b[1;33m-\u001b[0m\u001b[1;36m60\u001b[0m\u001b[1;33m]\u001b[0m \u001b[1;33m=\u001b[0m \u001b[0msanta_filter\u001b[0m\u001b[1;33m[\u001b[0m\u001b[0mi\u001b[0m\u001b[1;33m,\u001b[0m\u001b[0mj\u001b[0m\u001b[1;33m]\u001b[0m\u001b[1;33m\u001b[0m\u001b[1;33m\u001b[0m\u001b[0m\n\u001b[0m\u001b[0;32m     58\u001b[0m \u001b[1;33m\u001b[0m\u001b[0m\n\u001b[0;32m     59\u001b[0m         \u001b[1;31m# Hat filter\u001b[0m\u001b[1;33m\u001b[0m\u001b[1;33m\u001b[0m\u001b[1;33m\u001b[0m\u001b[0m\n",
      "\u001b[1;31mIndexError\u001b[0m: index 480 is out of bounds for axis 0 with size 480"
     ]
    }
   ],
   "source": [
    "# Run the program infinitely\n",
    "while True:\n",
    "    grab_trueorfalse, img = camera.read()       # Read data from the webcam\n",
    "    \n",
    "    # Preprocess input fram webcam\n",
    "    gray = cv2.cvtColor(img, cv2.COLOR_BGR2GRAY)        # Convert RGB data to Grayscale\n",
    "    faces = face_cascade.detectMultiScale(gray, 1.3, 5)     # Identify faces in the webcam\n",
    "    \n",
    "    # For each detected face using tha Haar cascade\n",
    "    for (x,y,w,h) in faces:\n",
    "        roi_gray = gray[y:y+h, x:x+w]\n",
    "        img_copy = np.copy(img)\n",
    "        img_copy_1 = np.copy(img)\n",
    "        roi_color = img_copy_1[y:y+h, x:x+w]\n",
    "        \n",
    "        width_original = roi_gray.shape[1]      # Width of region where face is detected\n",
    "        height_original = roi_gray.shape[0]     # Height of region where face is detected\n",
    "        img_gray = cv2.resize(roi_gray, (96, 96))       # Resize image to size 96x96\n",
    "        img_gray = img_gray/255         # Normalize the image data\n",
    "        \n",
    "        img_model = np.reshape(img_gray, (1,96,96,1))   # Model takes input of shape = [batch_size, height, width, no. of channels]\n",
    "        keypoints = model.predict(img_model)[0]         # Predict keypoints for the current input\n",
    "        \n",
    "        # Keypoints are saved as (x1, y1, x2, y2, ......)\n",
    "        x_coords = keypoints[0::2]      # Read alternate elements starting from index 0\n",
    "        y_coords = keypoints[1::2]      # Read alternate elements starting from index 1\n",
    "        \n",
    "        x_coords_denormalized = (x_coords+0.5)*width_original       # Denormalize x-coordinate\n",
    "        y_coords_denormalized = (y_coords+0.5)*height_original      # Denormalize y-coordinate\n",
    "        \n",
    "        for i in range(len(x_coords)):          # Plot the keypoints at the x and y coordinates\n",
    "            cv2.circle(roi_color, (x_coords_denormalized[i], y_coords_denormalized[i]), 2, (255,255,0), -1)\n",
    "        \n",
    "        # Particular keypoints for scaling and positioning of the filter\n",
    "        left_lip_coords = (int(x_coords_denormalized[11]), int(y_coords_denormalized[11]))\n",
    "        right_lip_coords = (int(x_coords_denormalized[12]), int(y_coords_denormalized[12]))\n",
    "        top_lip_coords = (int(x_coords_denormalized[13]), int(y_coords_denormalized[13]))\n",
    "        bottom_lip_coords = (int(x_coords_denormalized[14]), int(y_coords_denormalized[14]))\n",
    "        left_eye_coords = (int(x_coords_denormalized[3]), int(y_coords_denormalized[3]))\n",
    "        right_eye_coords = (int(x_coords_denormalized[5]), int(y_coords_denormalized[5]))\n",
    "        brow_coords = (int(x_coords_denormalized[6]), int(y_coords_denormalized[6]))\n",
    "        \n",
    "        # Scale filter according to keypoint coordinates\n",
    "        beard_width = right_lip_coords[0] - left_lip_coords[0]\n",
    "        glasses_width = right_eye_coords[0] - left_eye_coords[0]\n",
    "        \n",
    "        img_copy = cv2.cvtColor(img_copy, cv2.COLOR_BGR2BGRA)       # Used for transparency overlay of filter using the alpha channel\n",
    "\n",
    "        # Beard filter\n",
    "        santa_filter = cv2.imread('filters/santa_filter.png', -1)\n",
    "        santa_filter = cv2.resize(santa_filter, (beard_width*3,150))\n",
    "        sw,sh,sc = santa_filter.shape\n",
    "        \n",
    "        for i in range(0,sw):       # Overlay the filter based on the alpha channel\n",
    "            for j in range(0,sh):\n",
    "                if santa_filter[i,j][3] != 0:\n",
    "                    img_copy[top_lip_coords[1]+i+y-20, left_lip_coords[0]+j+x-60] = santa_filter[i,j]\n",
    "                    \n",
    "        # Hat filter\n",
    "        hat = cv2.imread('filters/hat2.png', -1)\n",
    "        hat = cv2.resize(hat, (w,w))\n",
    "        hw,hh,hc = hat.shape\n",
    "        \n",
    "        for i in range(0,hw):       # Overlay the filter based on the alpha channel\n",
    "            for j in range(0,hh):\n",
    "                if hat[i,j][3] != 0:\n",
    "                    img_copy[i+y-brow_coords[1]*2, j+x-left_eye_coords[0]*1 + 20] = hat[i,j]\n",
    "        \n",
    "        # Glasses filter\n",
    "        glasses = cv2.imread('filters/glasses.png', -1)\n",
    "        glasses = cv2.resize(glasses, (glasses_width*2,150))\n",
    "        gw,gh,gc = glasses.shape\n",
    "        \n",
    "        for i in range(0,gw):       # Overlay the filter based on the alpha channel\n",
    "            for j in range(0,gh):\n",
    "                if glasses[i,j][3] != 0:\n",
    "                    img_copy[brow_coords[1]+i+y-50, left_eye_coords[0]+j+x-60] = glasses[i,j]\n",
    "        \n",
    "        img_copy = cv2.cvtColor(img_copy, cv2.COLOR_BGRA2BGR)       # Revert back to BGR\n",
    "        \n",
    "        cv2.imshow('Output',img_copy)           # Output with the filter placed on the face\n",
    "        cv2.imshow('Keypoints predicted',img_copy_1)        # Place keypoints on the webcam input\n",
    "        \n",
    "    cv2.imshow('Webcam',img)        # Original webcame Input\n",
    "    \n",
    "    if cv2.waitKey(1) & 0xFF == ord(\"e\"):   # If 'e' is pressed, stop reading and break the loop\n",
    "        break"
   ]
  },
  {
   "cell_type": "code",
   "execution_count": null,
   "metadata": {},
   "outputs": [],
   "source": []
  }
 ],
 "metadata": {
  "kernelspec": {
   "display_name": "Python 3",
   "language": "python",
   "name": "python3"
  },
  "language_info": {
   "codemirror_mode": {
    "name": "ipython",
    "version": 3
   },
   "file_extension": ".py",
   "mimetype": "text/x-python",
   "name": "python",
   "nbconvert_exporter": "python",
   "pygments_lexer": "ipython3",
   "version": "3.7.7"
  }
 },
 "nbformat": 4,
 "nbformat_minor": 4
}
